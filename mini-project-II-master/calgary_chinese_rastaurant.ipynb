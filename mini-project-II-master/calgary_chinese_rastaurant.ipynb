{
 "metadata": {
  "language_info": {
   "codemirror_mode": {
    "name": "ipython",
    "version": 3
   },
   "file_extension": ".py",
   "mimetype": "text/x-python",
   "name": "python",
   "nbconvert_exporter": "python",
   "pygments_lexer": "ipython3",
   "version": "3.6.5-final"
  },
  "orig_nbformat": 2,
  "kernelspec": {
   "name": "python36564bit6f77634e2dab4869b7bf6615e97ce046",
   "display_name": "Python 3.6.5 64-bit",
   "metadata": {
    "interpreter": {
     "hash": "b3ba2566441a7c06988d0923437866b63cedc61552a5af99d1f4fb67d367b25f"
    }
   }
  }
 },
 "nbformat": 4,
 "nbformat_minor": 2,
 "cells": [
  {
   "source": [
    "# Yelp and FourSquare API Data Extraction of Chinese Restaurant in Calgary"
   ],
   "cell_type": "markdown",
   "metadata": {}
  },
  {
   "source": [
    "## Part 1 Using Yelp API for data extraction and analysis"
   ],
   "cell_type": "markdown",
   "metadata": {}
  },
  {
   "source": [
    "### step 1- Yelp API Data Extraction"
   ],
   "cell_type": "markdown",
   "metadata": {}
  },
  {
   "cell_type": "code",
   "execution_count": 58,
   "metadata": {},
   "outputs": [],
   "source": [
    "# import libraries ( found yelpapi python library) \n",
    "import requests as re\n",
    "import os\n",
    "import numpy as np \n",
    "import pandas as pd\n",
    "from yelpapi import YelpAPI"
   ]
  },
  {
   "cell_type": "code",
   "execution_count": 59,
   "metadata": {},
   "outputs": [],
   "source": [
    "# set up enviromental variables for API_key and API_secret\n",
    "\n",
    "Yelp_ID=os.environ['Yelp_Client_ID'] # not required\n",
    "api_key=os.environ['Yelp_Client_Key']\n",
    "yelp_api = YelpAPI(api_key)"
   ]
  },
  {
   "cell_type": "code",
   "execution_count": 60,
   "metadata": {},
   "outputs": [],
   "source": [
    "# set up API query params location as 'Calgary chinese restaunt with limit of 50 record\n",
    "search_location='Calgary, Canada'\n",
    "search_term='chinese restaurant'\n",
    "search_limit=50"
   ]
  },
  {
   "cell_type": "code",
   "execution_count": 61,
   "metadata": {},
   "outputs": [
    {
     "output_type": "execute_result",
     "data": {
      "text/plain": "dict_keys(['businesses', 'total', 'region'])"
     },
     "metadata": {},
     "execution_count": 61
    }
   ],
   "source": [
    "# check the API response result- #response is a dictionary \n",
    "response = yelp_api.search_query(term = search_term,\n",
    "                                 location =search_location,\n",
    "                                 limit = search_limit)\n",
    "response.keys()"
   ]
  },
  {
   "cell_type": "code",
   "execution_count": 69,
   "metadata": {},
   "outputs": [
    {
     "output_type": "execute_result",
     "data": {
      "text/plain": "{'id': '43V5SUyC04za5ITSvRndog',\n 'alias': 'great-taste-chinese-restaurant-calgary',\n 'name': 'Great Taste Chinese Restaurant',\n 'image_url': 'https://s3-media3.fl.yelpcdn.com/bphoto/qTNyQRDOODEFM9640GObRA/o.jpg',\n 'is_closed': False,\n 'url': 'https://www.yelp.com/biz/great-taste-chinese-restaurant-calgary?adjust_creative=MF4ZCJdyS3f3O1jkl2e3AQ&utm_campaign=yelp_api_v3&utm_medium=api_v3_business_search&utm_source=MF4ZCJdyS3f3O1jkl2e3AQ',\n 'review_count': 82,\n 'categories': [{'alias': 'chinese', 'title': 'Chinese'}],\n 'rating': 4.0,\n 'coordinates': {'latitude': 51.05102729247, 'longitude': -114.061279112366},\n 'transactions': [],\n 'price': '$$',\n 'location': {'address1': '123 2 Avenue SE',\n  'address2': '',\n  'address3': '',\n  'city': 'Calgary',\n  'zip_code': 'T2G 0B2',\n  'country': 'CA',\n  'state': 'AB',\n  'display_address': ['123 2 Avenue SE', 'Calgary, AB T2G 0B2', 'Canada']},\n 'phone': '+14032659880',\n 'display_phone': '+1 403-265-9880',\n 'distance': 1453.6428453331075}"
     },
     "metadata": {},
     "execution_count": 69
    }
   ],
   "source": [
    "# further explore the data layer information\n",
    "response['businesses'][0]"
   ]
  },
  {
   "cell_type": "code",
   "execution_count": 67,
   "metadata": {},
   "outputs": [
    {
     "output_type": "execute_result",
     "data": {
      "text/plain": "                                    alias  \\\n0  great-taste-chinese-restaurant-calgary   \n\n                                   categories  \\\n0  [{'alias': 'chinese', 'title': 'Chinese'}]   \n\n                                         coordinates    display_phone  \\\n0  {'latitude': 51.05102729247, 'longitude': -114...  +1 403-265-9880   \n\n      distance                      id  \\\n0  1453.642845  43V5SUyC04za5ITSvRndog   \n\n                                           image_url  is_closed  \\\n0  https://s3-media3.fl.yelpcdn.com/bphoto/qTNyQR...      False   \n\n                                            location  \\\n0  {'address1': '123 2 Avenue SE', 'address2': ''...   \n\n                             name         phone price  rating  review_count  \\\n0  Great Taste Chinese Restaurant  +14032659880    $$     4.0            82   \n\n  transactions                                                url  \n0           []  https://www.yelp.com/biz/great-taste-chinese-r...  ",
      "text/html": "<div>\n<style scoped>\n    .dataframe tbody tr th:only-of-type {\n        vertical-align: middle;\n    }\n\n    .dataframe tbody tr th {\n        vertical-align: top;\n    }\n\n    .dataframe thead th {\n        text-align: right;\n    }\n</style>\n<table border=\"1\" class=\"dataframe\">\n  <thead>\n    <tr style=\"text-align: right;\">\n      <th></th>\n      <th>alias</th>\n      <th>categories</th>\n      <th>coordinates</th>\n      <th>display_phone</th>\n      <th>distance</th>\n      <th>id</th>\n      <th>image_url</th>\n      <th>is_closed</th>\n      <th>location</th>\n      <th>name</th>\n      <th>phone</th>\n      <th>price</th>\n      <th>rating</th>\n      <th>review_count</th>\n      <th>transactions</th>\n      <th>url</th>\n    </tr>\n  </thead>\n  <tbody>\n    <tr>\n      <th>0</th>\n      <td>great-taste-chinese-restaurant-calgary</td>\n      <td>[{'alias': 'chinese', 'title': 'Chinese'}]</td>\n      <td>{'latitude': 51.05102729247, 'longitude': -114...</td>\n      <td>+1 403-265-9880</td>\n      <td>1453.642845</td>\n      <td>43V5SUyC04za5ITSvRndog</td>\n      <td>https://s3-media3.fl.yelpcdn.com/bphoto/qTNyQR...</td>\n      <td>False</td>\n      <td>{'address1': '123 2 Avenue SE', 'address2': ''...</td>\n      <td>Great Taste Chinese Restaurant</td>\n      <td>+14032659880</td>\n      <td>$$</td>\n      <td>4.0</td>\n      <td>82</td>\n      <td>[]</td>\n      <td>https://www.yelp.com/biz/great-taste-chinese-r...</td>\n    </tr>\n  </tbody>\n</table>\n</div>"
     },
     "metadata": {},
     "execution_count": 67
    }
   ],
   "source": [
    "# using Json_Normalize to get the pandas dataframe\n",
    "\n",
    "from pandas.io.json import json_normalize\n",
    "yelp=json_normalize(response, record_path='businesses')  \n",
    "yelp.head(1)"
   ]
  },
  {
   "cell_type": "code",
   "execution_count": 68,
   "metadata": {},
   "outputs": [
    {
     "output_type": "execute_result",
     "data": {
      "text/plain": "                                           name  review_count  rating\n45                           T.Pot China Bistro           112     3.5\n7                      Silver Dragon Restaurant           111     3.5\n0                Great Taste Chinese Restaurant            82     4.0\n19                         Sun's BBQ Restaurant            79     3.5\n5                      Calgary Court Restaurant            74     4.0\n22                            U & Me Restaurant            73     3.5\n49                     Ginger Beef Bistro House            69     3.5\n20                          Bill’s Peking House            65     3.5\n2                           Szechuan Restaurant            64     4.0\n33  Forbidden City Dim Sum & Seafood Restaurant            63     3.5",
      "text/html": "<div>\n<style scoped>\n    .dataframe tbody tr th:only-of-type {\n        vertical-align: middle;\n    }\n\n    .dataframe tbody tr th {\n        vertical-align: top;\n    }\n\n    .dataframe thead th {\n        text-align: right;\n    }\n</style>\n<table border=\"1\" class=\"dataframe\">\n  <thead>\n    <tr style=\"text-align: right;\">\n      <th></th>\n      <th>name</th>\n      <th>review_count</th>\n      <th>rating</th>\n    </tr>\n  </thead>\n  <tbody>\n    <tr>\n      <th>45</th>\n      <td>T.Pot China Bistro</td>\n      <td>112</td>\n      <td>3.5</td>\n    </tr>\n    <tr>\n      <th>7</th>\n      <td>Silver Dragon Restaurant</td>\n      <td>111</td>\n      <td>3.5</td>\n    </tr>\n    <tr>\n      <th>0</th>\n      <td>Great Taste Chinese Restaurant</td>\n      <td>82</td>\n      <td>4.0</td>\n    </tr>\n    <tr>\n      <th>19</th>\n      <td>Sun's BBQ Restaurant</td>\n      <td>79</td>\n      <td>3.5</td>\n    </tr>\n    <tr>\n      <th>5</th>\n      <td>Calgary Court Restaurant</td>\n      <td>74</td>\n      <td>4.0</td>\n    </tr>\n    <tr>\n      <th>22</th>\n      <td>U &amp; Me Restaurant</td>\n      <td>73</td>\n      <td>3.5</td>\n    </tr>\n    <tr>\n      <th>49</th>\n      <td>Ginger Beef Bistro House</td>\n      <td>69</td>\n      <td>3.5</td>\n    </tr>\n    <tr>\n      <th>20</th>\n      <td>Bill’s Peking House</td>\n      <td>65</td>\n      <td>3.5</td>\n    </tr>\n    <tr>\n      <th>2</th>\n      <td>Szechuan Restaurant</td>\n      <td>64</td>\n      <td>4.0</td>\n    </tr>\n    <tr>\n      <th>33</th>\n      <td>Forbidden City Dim Sum &amp; Seafood Restaurant</td>\n      <td>63</td>\n      <td>3.5</td>\n    </tr>\n  </tbody>\n</table>\n</div>"
     },
     "metadata": {},
     "execution_count": 68
    }
   ],
   "source": [
    "df_yelp=yelp[['name','review_count','rating']]\n",
    "yelptop10=df_yelp.sort_values(by='review_count',ascending=False).head(10)\n",
    "yelptop10"
   ]
  },
  {
   "source": [
    "### step 2 Yelp API to SQL"
   ],
   "cell_type": "markdown",
   "metadata": {}
  },
  {
   "cell_type": "code",
   "execution_count": 69,
   "metadata": {},
   "outputs": [],
   "source": [
    "## create SQLite Database p\n",
    "import sqlite3 as sqlite\n",
    "conn=sqlite.connect('p.db')\n",
    "c=conn.cursor()\n",
    "#c.execute('CREATE TABLE ccr (name text, review_count integer, rating float)')\n",
    "#conn.commit()\n",
    " "
   ]
  },
  {
   "cell_type": "code",
   "execution_count": 71,
   "metadata": {},
   "outputs": [],
   "source": [
    "#Get from pandas to SQL\n",
    "df_yelp.to_sql('ccr', conn, if_exists='replace', index=False)"
   ]
  },
  {
   "cell_type": "code",
   "execution_count": 29,
   "metadata": {
    "tags": []
   },
   "outputs": [
    {
     "output_type": "stream",
     "name": "stdout",
     "text": "('T.Pot China Bistro', 112, 3.5)\n('Silver Dragon Restaurant', 111, 3.5)\n('Great Taste Chinese Restaurant', 82, 4.0)\n(\"Sun's BBQ Restaurant\", 79, 3.5)\n('Calgary Court Restaurant', 74, 4.0)\n('U & Me Restaurant', 73, 3.5)\n('Ginger Beef Bistro House', 69, 3.5)\n('Bill’s Peking House', 65, 3.5)\n('Szechuan Restaurant', 64, 4.0)\n('Forbidden City Dim Sum & Seafood Restaurant', 63, 3.5)\n"
    }
   ],
   "source": [
    "#SQL Query Result\n",
    "c.execute('''Select * from ccr order by review_count DESC limit 10''')\n",
    "for row in c.fetchall():\n",
    "    print(row)"
   ]
  },
  {
   "cell_type": "code",
   "execution_count": 72,
   "metadata": {
    "tags": []
   },
   "outputs": [
    {
     "output_type": "stream",
     "name": "stdout",
     "text": "                                          name  review_count  rating\n0                           T.Pot China Bistro           112     3.5\n1                     Silver Dragon Restaurant           111     3.5\n2               Great Taste Chinese Restaurant            82     4.0\n3                         Sun's BBQ Restaurant            79     3.5\n4                     Calgary Court Restaurant            74     4.0\n5                            U & Me Restaurant            73     3.5\n6                     Ginger Beef Bistro House            69     3.5\n7                          Bill’s Peking House            65     3.5\n8                          Szechuan Restaurant            64     4.0\n9  Forbidden City Dim Sum & Seafood Restaurant            63     3.5\n"
    }
   ],
   "source": [
    "# from SQL query back to dataframe\n",
    "c.execute('''Select * from ccr order by review_count DESC limit 10''')\n",
    "yelp_top10=pd.DataFrame(c.fetchall(), columns=['name', 'review_count', 'rating'])\n",
    "print(yelp_top10)\n"
   ]
  },
  {
   "source": [
    "## Part 2 Four Square API and SQL \n",
    "### step 1 FourSquar API Data Extraction"
   ],
   "cell_type": "markdown",
   "metadata": {}
  },
  {
   "cell_type": "code",
   "execution_count": 23,
   "metadata": {},
   "outputs": [],
   "source": [
    "# Import libraries\n",
    "import requests\n",
    "import json\n",
    "CLIENT_ID=os.environ['FOURSQUARE_CLIENT_ID']\n",
    "CLIENT_SECRET=os.environ['FOURSQUARE_CLIENT_SECRET']\n",
    "latitude='51.0430' #use calgary downtown lat & long for query\n",
    "longitude='-114.0687'\n",
    "VERSION=20200924\n",
    "search_query='chinese restaurant'\n",
    "radius=2000\n",
    "limit=50\n",
    "category_id='4bf58dd8d48988d145941735'"
   ]
  },
  {
   "cell_type": "code",
   "execution_count": 24,
   "metadata": {},
   "outputs": [
    {
     "output_type": "execute_result",
     "data": {
      "text/plain": "                         id                     name\n0  4b0586ecf964a520a17522e3          Singapore Sam's\n1  4fa8142de4b0bbcd4bd32a0e                Tiki-Ming\n2  4b0586e7f964a520267422e3        Ho Won Restaurant\n3  5c2af8cf7a0eff0025797a27         dagu rice noodle\n4  5d3e077c56848800089d2f3d       Bubble Waffle Cafe\n5  4b228f0df964a520fd4824e3           The Pink Pearl\n6  53f3edcd498e02e3a48abac9  Auntie's Chinese Burger\n7  4bca025f937ca59398dba692        Wok n Roll Bistro\n8  4d631134855e5481c9f7f679     Red House Restaurant\n9  4b293a9af964a520519b24e3   Kam Han Szechuan House",
      "text/html": "<div>\n<style scoped>\n    .dataframe tbody tr th:only-of-type {\n        vertical-align: middle;\n    }\n\n    .dataframe tbody tr th {\n        vertical-align: top;\n    }\n\n    .dataframe thead th {\n        text-align: right;\n    }\n</style>\n<table border=\"1\" class=\"dataframe\">\n  <thead>\n    <tr style=\"text-align: right;\">\n      <th></th>\n      <th>id</th>\n      <th>name</th>\n    </tr>\n  </thead>\n  <tbody>\n    <tr>\n      <th>0</th>\n      <td>4b0586ecf964a520a17522e3</td>\n      <td>Singapore Sam's</td>\n    </tr>\n    <tr>\n      <th>1</th>\n      <td>4fa8142de4b0bbcd4bd32a0e</td>\n      <td>Tiki-Ming</td>\n    </tr>\n    <tr>\n      <th>2</th>\n      <td>4b0586e7f964a520267422e3</td>\n      <td>Ho Won Restaurant</td>\n    </tr>\n    <tr>\n      <th>3</th>\n      <td>5c2af8cf7a0eff0025797a27</td>\n      <td>dagu rice noodle</td>\n    </tr>\n    <tr>\n      <th>4</th>\n      <td>5d3e077c56848800089d2f3d</td>\n      <td>Bubble Waffle Cafe</td>\n    </tr>\n    <tr>\n      <th>5</th>\n      <td>4b228f0df964a520fd4824e3</td>\n      <td>The Pink Pearl</td>\n    </tr>\n    <tr>\n      <th>6</th>\n      <td>53f3edcd498e02e3a48abac9</td>\n      <td>Auntie's Chinese Burger</td>\n    </tr>\n    <tr>\n      <th>7</th>\n      <td>4bca025f937ca59398dba692</td>\n      <td>Wok n Roll Bistro</td>\n    </tr>\n    <tr>\n      <th>8</th>\n      <td>4d631134855e5481c9f7f679</td>\n      <td>Red House Restaurant</td>\n    </tr>\n    <tr>\n      <th>9</th>\n      <td>4b293a9af964a520519b24e3</td>\n      <td>Kam Han Szechuan House</td>\n    </tr>\n  </tbody>\n</table>\n</div>"
     },
     "metadata": {},
     "execution_count": 24
    }
   ],
   "source": [
    "# get Foursqure API response for business name and id first\n",
    "url = 'https://api.foursquare.com/v2/venues/search?client_id={}&client_secret={}&ll={},{}&v={}&categoryId={}&radius={}&limit={}'.format(CLIENT_ID, CLIENT_SECRET, latitude, longitude, VERSION, category_id, radius, limit)\n",
    "\n",
    "results = requests.get(url).json()\n",
    "info= results['response']['venues']\n",
    "\n",
    "from pandas.io.json import json_normalize\n",
    "df1=json_normalize(info)\n",
    "df_fs=df1[['id','name']]\n",
    "df_fs.head(2)"
   ]
  },
  {
   "cell_type": "code",
   "execution_count": 29,
   "metadata": {},
   "outputs": [
    {
     "output_type": "execute_result",
     "data": {
      "text/plain": "['4ba904a5f964a52006043ae3',\n '4bb14fd5f964a5207d8b3ce3',\n '4b0586e7f964a520267422e3',\n '4f125973e4b09e81d9b56944',\n '4b37ac27f964a520114425e3',\n '4bac0431f964a52049de3ae3',\n '4b6b6ebef964a52070082ce3',\n '4d87a190e83fa143f975a8a1',\n '4b228f0df964a520fd4824e3',\n '58fea745aa6c9549ac21ef47',\n '5baec6dca2a6ce002ccd22c8',\n '53361ce8498e7258d12b5ce2',\n '522e13c311d265a2f92e4b86',\n '4b5f461bf964a52059b129e3',\n '4e2b52c8e4cd3bc166947b64',\n '4b3d4934f964a520a29125e3',\n '593303ecf427de60324216e4',\n '4bd0e9d6046076b0c8087171',\n '5c2af8cf7a0eff0025797a27',\n '4b0586ecf964a520a17522e3',\n '59407b3b81348810da371dfb',\n '52f82cca498ed0446247415a',\n '4b0586e7f964a520f77322e3',\n '53f3edcd498e02e3a48abac9',\n '4d6f0f18516b8cfa04374c10',\n '4b0586ebf964a520477522e3',\n '5c0f453b3ba767002c821b7a',\n '4fa8142de4b0bbcd4bd32a0e',\n '5247227311d28d1557679130',\n '4c4f3af579ffe21ec3494f1a',\n '4cae0f488c48a0933174712c',\n '4d22566e756e8cfa57cf7d54',\n '4d631134855e5481c9f7f679',\n '4d87a19002eb5481448a6ef5',\n '5d3e077c56848800089d2f3d',\n '5cdceebd0868a2002c526a23',\n '4bca025f937ca59398dba692',\n '4b48e42ef964a5200a5c26e3',\n '4b5f8debf964a5204dc129e3',\n '4b0b41edf964a5208b2f23e3',\n '4b293a9af964a520519b24e3',\n '4b0586e8f964a5207e7422e3',\n '4da37282c6e96ea8b677e95d',\n '4b89db12f964a520995132e3',\n '4bed9da23372c928eae81114',\n '5583a549498e59c71d83d8ac',\n '5335c3c3498e0655861d5055']"
     },
     "metadata": {},
     "execution_count": 29
    }
   ],
   "source": [
    "# convert the pandas data column to list\n",
    "import pandas as pd\n",
    "ids=list(set(df_fs['id']))\n",
    "ids"
   ]
  },
  {
   "cell_type": "code",
   "execution_count": 35,
   "metadata": {},
   "outputs": [
    {
     "output_type": "execute_result",
     "data": {
      "text/plain": "dict_keys(['id', 'name', 'contact', 'location', 'canonicalUrl', 'categories', 'verified', 'stats', 'price', 'likes', 'dislike', 'ok', 'allowMenuUrlEdit', 'beenHere', 'specials', 'photos', 'reasons', 'hereNow', 'createdAt', 'tips', 'shortUrl', 'timeZone', 'listed', 'seasonalHours', 'pageUpdates', 'inbox', 'attributes', 'bestPhoto', 'colors'])"
     },
     "metadata": {},
     "execution_count": 35
    }
   ],
   "source": [
    "# try one example to get the business detail for rating or likes\n",
    "venue_id='4ba904a5f964a52006043ae3'\n",
    "detail_url ='https://api.foursquare.com/v2/venues/{}?client_id={}&client_secret={}&v={}'.format(venue_id, CLIENT_ID, CLIENT_SECRET, VERSION)\n",
    "v1=requests.get(detail_url)\n",
    "v1.json()['response']['venue'].keys()"
   ]
  },
  {
   "cell_type": "code",
   "execution_count": 36,
   "metadata": {
    "tags": []
   },
   "outputs": [
    {
     "output_type": "stream",
     "name": "stdout",
     "text": "[1, 0, 3, 16, 23, 0, 15, 0, 2, 0, 0, 0, 1, 1, 0, 9, 1, 0, 0, 11, 1, 0, 25, 1, 0, 13, 0, 0, 3, 4, 0, 6, 1, 0, 0, 0, 1, 6, 11, 10, 8, 3, 0, 3, 2, 1, 2]\n"
    }
   ],
   "source": [
    "# extract the likes_count information and save in a list \n",
    "likes=[]\n",
    "for id in ids:\n",
    "    venue_id=id\n",
    "    detail_url ='https://api.foursquare.com/v2/venues/{}?client_id={}&client_secret={}&v={}'.format(venue_id, CLIENT_ID, CLIENT_SECRET, VERSION)\n",
    "    \n",
    "    detail=requests.get(detail_url).json()\n",
    "    like=detail['response']['venue']['likes']['count']\n",
    "    likes.append(like)\n",
    " \n",
    "print(likes)"
   ]
  },
  {
   "cell_type": "code",
   "execution_count": 48,
   "metadata": {},
   "outputs": [],
   "source": [
    "df_fs['like_count']=likes\n",
    "fs=df_fs[['name', 'like_count']]"
   ]
  },
  {
   "cell_type": "code",
   "execution_count": 49,
   "metadata": {},
   "outputs": [
    {
     "output_type": "execute_result",
     "data": {
      "text/plain": "                              name  like_count\n22                    Tang Dynasty          25\n4               Bubble Waffle Cafe          23\n3                 dagu rice noodle          16\n6          Auntie's Chinese Burger          15\n25          Tiki-Ming Bankers Hall          13\n19        成都川菜 Cheng Du Restaurant          11\n38                      Jerky King          11\n39  Great Taste Chinese Restaurant          10\n15               King's Restaurant           9\n40       Regency Palace Restaurant           8",
      "text/html": "<div>\n<style scoped>\n    .dataframe tbody tr th:only-of-type {\n        vertical-align: middle;\n    }\n\n    .dataframe tbody tr th {\n        vertical-align: top;\n    }\n\n    .dataframe thead th {\n        text-align: right;\n    }\n</style>\n<table border=\"1\" class=\"dataframe\">\n  <thead>\n    <tr style=\"text-align: right;\">\n      <th></th>\n      <th>name</th>\n      <th>like_count</th>\n    </tr>\n  </thead>\n  <tbody>\n    <tr>\n      <th>22</th>\n      <td>Tang Dynasty</td>\n      <td>25</td>\n    </tr>\n    <tr>\n      <th>4</th>\n      <td>Bubble Waffle Cafe</td>\n      <td>23</td>\n    </tr>\n    <tr>\n      <th>3</th>\n      <td>dagu rice noodle</td>\n      <td>16</td>\n    </tr>\n    <tr>\n      <th>6</th>\n      <td>Auntie's Chinese Burger</td>\n      <td>15</td>\n    </tr>\n    <tr>\n      <th>25</th>\n      <td>Tiki-Ming Bankers Hall</td>\n      <td>13</td>\n    </tr>\n    <tr>\n      <th>19</th>\n      <td>成都川菜 Cheng Du Restaurant</td>\n      <td>11</td>\n    </tr>\n    <tr>\n      <th>38</th>\n      <td>Jerky King</td>\n      <td>11</td>\n    </tr>\n    <tr>\n      <th>39</th>\n      <td>Great Taste Chinese Restaurant</td>\n      <td>10</td>\n    </tr>\n    <tr>\n      <th>15</th>\n      <td>King's Restaurant</td>\n      <td>9</td>\n    </tr>\n    <tr>\n      <th>40</th>\n      <td>Regency Palace Restaurant</td>\n      <td>8</td>\n    </tr>\n  </tbody>\n</table>\n</div>"
     },
     "metadata": {},
     "execution_count": 49
    }
   ],
   "source": [
    "fstop10=fs.sort_values(by='like_count', ascending=False).head(10)\n",
    "fstop10"
   ]
  },
  {
   "source": [
    "### step 2 Foursquare SQL"
   ],
   "cell_type": "markdown",
   "metadata": {}
  },
  {
   "cell_type": "code",
   "execution_count": 44,
   "metadata": {},
   "outputs": [],
   "source": [
    "#convert back to SQL database\n",
    "import sqlite3 as sqlite\n",
    "conn1=sqlite.connect('q.db')\n",
    "c=conn1.cursor()\n",
    "c.execute('CREATE TABLE fs (name text, like_count integer)')\n",
    "conn1.commit()"
   ]
  },
  {
   "cell_type": "code",
   "execution_count": 50,
   "metadata": {},
   "outputs": [],
   "source": [
    "# Pandas to  SQL\n",
    "fs.to_sql('fs', conn1, if_exists='replace', index=False)"
   ]
  },
  {
   "cell_type": "code",
   "execution_count": 51,
   "metadata": {
    "tags": []
   },
   "outputs": [
    {
     "output_type": "stream",
     "name": "stdout",
     "text": "('Tang Dynasty', 25)\n('Bubble Waffle Cafe', 23)\n('dagu rice noodle', 16)\n(\"Auntie's Chinese Burger\", 15)\n('Tiki-Ming Bankers Hall', 13)\n('成都川菜 Cheng Du Restaurant', 11)\n('Jerky King', 11)\n('Great Taste Chinese Restaurant', 10)\n(\"King's Restaurant\", 9)\n('Regency Palace Restaurant', 8)\n"
    }
   ],
   "source": [
    "#SQL Query \n",
    "c.execute('''Select * from fs order by like_count DESC limit 10''')\n",
    "for row in c.fetchall():\n",
    "    print(row)"
   ]
  },
  {
   "cell_type": "code",
   "execution_count": 54,
   "metadata": {
    "tags": []
   },
   "outputs": [
    {
     "output_type": "stream",
     "name": "stdout",
     "text": "                             name  like_count\n0                    Tang Dynasty          25\n1              Bubble Waffle Cafe          23\n2                dagu rice noodle          16\n3         Auntie's Chinese Burger          15\n4          Tiki-Ming Bankers Hall          13\n5        成都川菜 Cheng Du Restaurant          11\n6                      Jerky King          11\n7  Great Taste Chinese Restaurant          10\n8               King's Restaurant           9\n9       Regency Palace Restaurant           8\n"
    }
   ],
   "source": [
    "# print pandas data table from SQL query result\n",
    "c.execute('''Select * from fs order by like_count DESC limit 10''')\n",
    "fs_top10=pd.DataFrame(c.fetchall(), columns=['name', 'like_count'])\n",
    "print(fs_top10)"
   ]
  },
  {
   "source": [
    "# final comparison of two API results\n"
   ],
   "cell_type": "markdown",
   "metadata": {}
  },
  {
   "cell_type": "code",
   "execution_count": 73,
   "metadata": {
    "tags": []
   },
   "outputs": [
    {
     "output_type": "stream",
     "name": "stdout",
     "text": "                                          name  review_count  rating\n0                           T.Pot China Bistro           112     3.5\n1                     Silver Dragon Restaurant           111     3.5\n2               Great Taste Chinese Restaurant            82     4.0\n3                         Sun's BBQ Restaurant            79     3.5\n4                     Calgary Court Restaurant            74     4.0\n5                            U & Me Restaurant            73     3.5\n6                     Ginger Beef Bistro House            69     3.5\n7                          Bill’s Peking House            65     3.5\n8                          Szechuan Restaurant            64     4.0\n9  Forbidden City Dim Sum & Seafood Restaurant            63     3.5                              name  like_count\n0                    Tang Dynasty          25\n1              Bubble Waffle Cafe          23\n2                dagu rice noodle          16\n3         Auntie's Chinese Burger          15\n4          Tiki-Ming Bankers Hall          13\n5        成都川菜 Cheng Du Restaurant          11\n6                      Jerky King          11\n7  Great Taste Chinese Restaurant          10\n8               King's Restaurant           9\n9       Regency Palace Restaurant           8\n"
    }
   ],
   "source": [
    "print(yelp_top10, fs_top10)"
   ]
  },
  {
   "source": [
    "## conclusion: -first choice: Yelp!\n",
    "    1. Yelp API has both \"rating\" and \"review_counts\" and more user friendly, easy to get the response. \n",
    "    Foursquare needs more premiums to get the detailed rating and likes information.\n",
    "\n",
    "    2. Yelp API provides more number of records for the ratings and review_counts, more popularized.\n",
    "    \n",
    "    3. Foursquare can get more detailed information reagrding the business (pictures, recommendation, tips et al)\n",
    "    "
   ],
   "cell_type": "markdown",
   "metadata": {}
  },
  {
   "cell_type": "code",
   "execution_count": null,
   "metadata": {},
   "outputs": [],
   "source": []
  }
 ]
}